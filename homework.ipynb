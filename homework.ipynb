{
 "cells": [
  {
   "cell_type": "code",
   "execution_count": 54,
   "metadata": {},
   "outputs": [
    {
     "data": {
      "text/html": [
       "<div>\n",
       "<style scoped>\n",
       "    .dataframe tbody tr th:only-of-type {\n",
       "        vertical-align: middle;\n",
       "    }\n",
       "\n",
       "    .dataframe tbody tr th {\n",
       "        vertical-align: top;\n",
       "    }\n",
       "\n",
       "    .dataframe thead th {\n",
       "        text-align: right;\n",
       "    }\n",
       "</style>\n",
       "<table border=\"1\" class=\"dataframe\">\n",
       "  <thead>\n",
       "    <tr style=\"text-align: right;\">\n",
       "      <th></th>\n",
       "      <th>0</th>\n",
       "    </tr>\n",
       "  </thead>\n",
       "  <tbody>\n",
       "    <tr>\n",
       "      <th>IRR</th>\n",
       "      <td>42250.000000</td>\n",
       "    </tr>\n",
       "    <tr>\n",
       "      <th>VND</th>\n",
       "      <td>23582.500000</td>\n",
       "    </tr>\n",
       "    <tr>\n",
       "      <th>STD</th>\n",
       "      <td>22823.990504</td>\n",
       "    </tr>\n",
       "    <tr>\n",
       "      <th>SLL</th>\n",
       "      <td>17665.000000</td>\n",
       "    </tr>\n",
       "    <tr>\n",
       "      <th>LAK</th>\n",
       "      <td>16839.696743</td>\n",
       "    </tr>\n",
       "    <tr>\n",
       "      <th>IDR</th>\n",
       "      <td>15187.750000</td>\n",
       "    </tr>\n",
       "    <tr>\n",
       "      <th>LBP</th>\n",
       "      <td>15006.810451</td>\n",
       "    </tr>\n",
       "    <tr>\n",
       "      <th>UZS</th>\n",
       "      <td>11333.717235</td>\n",
       "    </tr>\n",
       "    <tr>\n",
       "      <th>GNF</th>\n",
       "      <td>8603.751151</td>\n",
       "    </tr>\n",
       "    <tr>\n",
       "      <th>PYG</th>\n",
       "      <td>7275.023907</td>\n",
       "    </tr>\n",
       "  </tbody>\n",
       "</table>\n",
       "</div>"
      ],
      "text/plain": [
       "                0\n",
       "IRR  42250.000000\n",
       "VND  23582.500000\n",
       "STD  22823.990504\n",
       "SLL  17665.000000\n",
       "LAK  16839.696743\n",
       "IDR  15187.750000\n",
       "LBP  15006.810451\n",
       "UZS  11333.717235\n",
       "GNF   8603.751151\n",
       "PYG   7275.023907"
      ]
     },
     "metadata": {},
     "output_type": "display_data"
    },
    {
     "data": {
      "image/png": "[encoded data removed]",
      "text/plain": [
       "<Figure size 432x288 with 1 Axes>"
      ]
     },
     "metadata": {
      "needs_background": "light"
     },
     "output_type": "display_data"
    }
   ],
   "source": [
    "import requests\n",
    "import pandas as pd\n",
    "\n",
    "\n",
    "response = requests.get('https://openexchangerates.org/api/latest.json?app_id=0b83822ea17e457e97f3737f350b0106&base=USD')\n",
    "\n",
    "data = response.json()\n",
    "\n",
    "for k,v in data.items():\n",
    "  currency=v\n",
    "df=pd.DataFrame.from_dict(currency, orient='index')\n",
    "strongDollar=df.sort_values(by=0, ascending=False)\n",
    "result=strongDollar.head(10)\n",
    "display(result)\n",
    "rateGraph=result.plot(kind='barh', legend=False)\n",
    "\n",
    "\n",
    "\n",
    "\n"
   ]
  },
  {
   "cell_type": "code",
   "execution_count": 53,
   "metadata": {},
   "outputs": [
    {
     "data": {
      "text/plain": [
       "True"
      ]
     },
     "execution_count": 53,
     "metadata": {},
     "output_type": "execute_result"
    }
   ],
   "source": [
    "import webbrowser\n",
    "\n",
    "client_id = \"7e84890237334c188289d7433f824c22\"\n",
    "redirect_uri = \"<https://github.com/Jklehner/Assignment1\"\n",
    "\n",
    "\n",
    "# Construct the authorization URL\n",
    "auth_url = f\"https://accounts.spotify.com/authorize?client_id={client_id}&response_type=code&redirect_uri={redirect_uri}\"\n",
    "\n",
    "# Open the authorization URL in the user's web browser\n",
    "webbrowser.open(auth_url)"
   ]
  }
 ],
 "metadata": {
  "kernelspec": {
   "display_name": "Python 3",
   "language": "python",
   "name": "python3"
  },
  "language_info": {
   "codemirror_mode": {
    "name": "ipython",
    "version": 3
   },
   "file_extension": ".py",
   "mimetype": "text/x-python",
   "name": "python",
   "nbconvert_exporter": "python",
   "pygments_lexer": "ipython3",
   "version": "3.10.2"
  },
  "orig_nbformat": 4,
  "vscode": {
   "interpreter": {
    "hash": "288270b25828e77279995601df01a2b62d256025aa3fda4e04ecfbbba25495a3"
   }
  }
 },
 "nbformat": 4,
 "nbformat_minor": 2
}
